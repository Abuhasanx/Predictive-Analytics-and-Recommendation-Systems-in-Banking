{
 "cells": [
  {
   "cell_type": "code",
   "execution_count": null,
   "metadata": {},
   "outputs": [],
   "source": [
    "# Install the Faker library to generate fake data\n",
    "!pip install faker"
   ]
  },
  {
   "cell_type": "code",
   "execution_count": 1,
   "metadata": {},
   "outputs": [],
   "source": [
    "# Import necessary libraries: pandas, numpy, Faker, and random for data manipulation and generation\n",
    "import pandas as pd\n",
    "import numpy as np\n",
    "from faker import Faker\n",
    "import  random"
   ]
  },
  {
   "cell_type": "code",
   "execution_count": 2,
   "metadata": {},
   "outputs": [],
   "source": [
    "# Import fsolve from scipy.optimize for solving non-linear equations\n",
    "from scipy.optimize import fsolve"
   ]
  },
  {
   "cell_type": "code",
   "execution_count": 3,
   "metadata": {},
   "outputs": [],
   "source": [
    "# Initialize the Faker object to generate fake data\n",
    "fake = Faker()"
   ]
  },
  {
   "cell_type": "code",
   "execution_count": 4,
   "metadata": {},
   "outputs": [],
   "source": [
    "# Generate Loan Data with Faker\n",
    "def generate_fake_loan_data(num_records=20000):\n",
    "    data = {\n",
    "        \"customer_id\": [i for i in range(1, num_records + 1)], \n",
    "        \"name\": [fake.name() for _ in range(num_records)],  \n",
    "        \"age\": [fake.random_int(min=21, max=65) for _ in range(num_records)],  \n",
    "        \"income\": [fake.random_int(min=30000, max=150000) for _ in range(num_records)],  \n",
    "        \"credit_score\": [fake.random_int(min=300, max=850) for _ in range(num_records)],  \n",
    "        \"loan_term\": [np.random.choice([12, 24, 36, 48, 60]) for _ in range(num_records)],  \n",
    "     \n",
    "    }\n",
    "    df = pd.DataFrame(data)\n",
    "    \n",
    "    \n",
    "    \n",
    "    def calculate_loan_amount(row):\n",
    "        if row['credit_score'] < 580:\n",
    "            max_loan = 10000\n",
    "        elif row['credit_score'] < 670:\n",
    "            max_loan = 20000\n",
    "        elif row['credit_score'] < 740:\n",
    "            max_loan = 35000\n",
    "        else:\n",
    "            max_loan = 50000\n",
    "        \n",
    "        if row['income'] < 50000:\n",
    "            loan_amount = max_loan * 0.4\n",
    "        elif row['income'] <= 100000:\n",
    "            loan_amount = max_loan * 0.7\n",
    "        else:\n",
    "            loan_amount = max_loan * 1.0\n",
    "        \n",
    "        return loan_amount\n",
    "    \n",
    "    df[\"loan_amount\"] = df.apply(calculate_loan_amount, axis=1)\n",
    "    \n",
    "    \n",
    "    def calculate_monthly_installment(loan_amount, loan_term):\n",
    "        temp_interest_rate = np.random.uniform(5, 15) / 100\n",
    "        r = temp_interest_rate / 12\n",
    "        n = loan_term\n",
    "        emi = loan_amount * r * (1 + r)*n / ((1 + r)*n - 1)\n",
    "        return emi\n",
    "    \n",
    "    df[\"monthly_installment\"] = df.apply(lambda x: calculate_monthly_installment(x[\"loan_amount\"], x[\"loan_term\"]), axis=1)\n",
    "    \n",
    "\n",
    "    def calculate_interest_rate(row):\n",
    "        def interest_function(r):\n",
    "            P = row[\"loan_amount\"]\n",
    "            n = row[\"loan_term\"]\n",
    "            EMI = row[\"monthly_installment\"]\n",
    "            return EMI - (P * r * (1 + r)*n) / ((1 + r)*n - 1)\n",
    "        \n",
    "        r_initial_guess = 0.01\n",
    "        monthly_rate = fsolve(interest_function, r_initial_guess)[0]\n",
    "        annual_rate = monthly_rate * 12 * 100\n",
    "        return annual_rate\n",
    "    \n",
    "    df[\"interest_rate\"] = df.apply(calculate_interest_rate, axis=1)\n",
    "\n",
    "    def calculate_repayment_status(row):\n",
    "        \n",
    "        if row['income'] < 50000 and row['credit_score'] < 600:\n",
    "            return 0  \n",
    "        \n",
    "        if row['age'] > 55 and row['income'] < 80000:\n",
    "            return 0  \n",
    "        \n",
    "        if row['loan_term'] in [48, 60] or row['interest_rate'] > 12:\n",
    "            return 0\n",
    "        \n",
    "      \n",
    "        debt_to_income_ratio = row['loan_amount'] / row['income'] * 100\n",
    "        if debt_to_income_ratio > 30: \n",
    "            return 0  \n",
    "        \n",
    "       \n",
    "        return 1  \n",
    "\n",
    "    df[\"repayment_status\"] = df.apply(calculate_repayment_status, axis=1)\n",
    "\n",
    "    \n",
    "    return df\n",
    "\n",
    "\n",
    "loan_data = generate_fake_loan_data(num_records=20000)"
   ]
  },
  {
   "cell_type": "code",
   "execution_count": null,
   "metadata": {},
   "outputs": [],
   "source": [
    "# Display the first few rows of the loan_data DataFrame\n",
    "loan_data.head()"
   ]
  },
  {
   "cell_type": "code",
   "execution_count": null,
   "metadata": {},
   "outputs": [],
   "source": [
    "# Check for missing values in the loan_data DataFrame and count them\n",
    "loan_data.isnull().sum()"
   ]
  },
  {
   "cell_type": "code",
   "execution_count": null,
   "metadata": {},
   "outputs": [],
   "source": [
    "# Display summary information about the loan_data DataFrame, including data types and non-null counts\n",
    "loan_data.info()"
   ]
  },
  {
   "cell_type": "code",
   "execution_count": null,
   "metadata": {},
   "outputs": [],
   "source": [
    "# Check the data types of each column in the loan_data DataFrame\n",
    "loan_data.dtypes"
   ]
  },
  {
   "cell_type": "code",
   "execution_count": null,
   "metadata": {},
   "outputs": [],
   "source": [
    "# Display the first 20 rows of the loan_data DataFrame\n",
    "loan_data.head(20)"
   ]
  },
  {
   "cell_type": "code",
   "execution_count": 10,
   "metadata": {},
   "outputs": [],
   "source": [
    "# Convert the 'loan_amount' column in loan_data to integers\n",
    "loan_data['loan_amount']=loan_data['loan_amount'].astype(int)"
   ]
  },
  {
   "cell_type": "code",
   "execution_count": 11,
   "metadata": {},
   "outputs": [],
   "source": [
    "# Round the 'monthly_installment' column to 3 decimal places and convert it to float type\n",
    "loan_data['monthly_installment']=loan_data['monthly_installment'].round(3).astype(float)"
   ]
  },
  {
   "cell_type": "code",
   "execution_count": 12,
   "metadata": {},
   "outputs": [],
   "source": [
    "# Round the 'interest_rate' column to 2 decimal places and convert it to float type\n",
    "loan_data['interest_rate']=loan_data['interest_rate'].round(2).astype(float)"
   ]
  },
  {
   "cell_type": "code",
   "execution_count": null,
   "metadata": {},
   "outputs": [],
   "source": [
    "# Display the first 20 rows of the loan_data DataFrame after modifications\n",
    "loan_data.head(20)"
   ]
  },
  {
   "cell_type": "code",
   "execution_count": null,
   "metadata": {},
   "outputs": [],
   "source": [
    "# Filter and display rows where 'repayment_status' is 0 in the loan_data DataFrame\n",
    "loan_data[loan_data['repayment_status']==0]"
   ]
  },
  {
   "cell_type": "code",
   "execution_count": null,
   "metadata": {},
   "outputs": [],
   "source": [
    "# Count the non-null values in each column of the loan_data DataFrame\n",
    "loan_data.count()"
   ]
  },
  {
   "cell_type": "code",
   "execution_count": null,
   "metadata": {},
   "outputs": [],
   "source": [
    "# Install the imbalanced-learn library for handling imbalanced datasets\n",
    "!pip install imbalanced-learn"
   ]
  },
  {
   "cell_type": "code",
   "execution_count": null,
   "metadata": {},
   "outputs": [],
   "source": [
    "# Apply SMOTE to balance the dataset by oversampling the minority class and display the class distribution before and after SMOTE\n",
    "from imblearn.over_sampling import SMOTE\n",
    "import pandas as pd\n",
    "\n",
    "# Dropping non-feature columns (e.g., 'customer_id', 'name')\n",
    "X = loan_data.drop(columns=['customer_id', 'name', 'repayment_status']) \n",
    "y = loan_data['repayment_status']  \n",
    "\n",
    "smote = SMOTE(random_state=42)\n",
    "X_smote, y_smote = smote.fit_resample(X, y)\n",
    "\n",
    "balanced_loan_data = pd.concat([X_smote, y_smote], axis=1)\n",
    "\n",
    "print(\"Before SMOTE:\")\n",
    "print(y.value_counts())\n",
    "\n",
    "print(\"\\nAfter SMOTE:\")\n",
    "print(y_smote.value_counts())\n"
   ]
  },
  {
   "cell_type": "code",
   "execution_count": null,
   "metadata": {},
   "outputs": [],
   "source": [
    "# Display the balanced loan_data DataFrame after applying SMOTE for oversampling\n",
    "balanced_loan_data"
   ]
  },
  {
   "cell_type": "code",
   "execution_count": null,
   "metadata": {},
   "outputs": [],
   "source": [
    "# Filter and display rows where 'repayment_status' is 0 in the balanced loan_data DataFrame\n",
    "balanced_loan_data[balanced_loan_data['repayment_status']==0]"
   ]
  },
  {
   "cell_type": "code",
   "execution_count": null,
   "metadata": {},
   "outputs": [],
   "source": [
    "# Filter and display rows where 'repayment_status' is 1 in the balanced loan_data DataFrame\n",
    "balanced_loan_data[balanced_loan_data['repayment_status']==1]"
   ]
  },
  {
   "cell_type": "code",
   "execution_count": null,
   "metadata": {},
   "outputs": [],
   "source": [
    "# Split the balanced dataset into training and testing sets, standardize the features, \n",
    "# and train a Logistic Regression model to predict repayment status,\n",
    "#  then evaluate accuracy on training and test sets\n",
    "from sklearn.model_selection import train_test_split\n",
    "from sklearn.linear_model import LogisticRegression\n",
    "from sklearn.preprocessing import StandardScaler\n",
    "\n",
    "\n",
    "X = balanced_loan_data[['age', 'income', 'credit_score', 'loan_term', 'loan_amount', 'monthly_installment', 'interest_rate']]\n",
    "y = balanced_loan_data['repayment_status']\n",
    "\n",
    "\n",
    "X_train, X_test, y_train, y_test = train_test_split(X, y, test_size=0.2, random_state=42)\n",
    "\n",
    "\n",
    "scaler = StandardScaler()\n",
    "X_train_scaled = scaler.fit_transform(X_train)  \n",
    "X_test_scaled = scaler.transform(X_test)        \n",
    "\n",
    "\n",
    "model = LogisticRegression()\n",
    "model.fit(X_train_scaled, y_train)\n",
    "\n",
    "\n",
    "print(\"Training Accuracy:\", model.score(X_train_scaled, y_train))\n",
    "print(\"Test Accuracy:\", model.score(X_test_scaled, y_test))"
   ]
  },
  {
   "cell_type": "code",
   "execution_count": null,
   "metadata": {},
   "outputs": [],
   "source": [
    "# Training and testing accuracy\n",
    "print(\"Training Accuracy:\", model.score(X_train_scaled, y_train))\n",
    "print(\"Test Accuracy:\", model.score(X_test_scaled, y_test))\n"
   ]
  },
  {
   "cell_type": "code",
   "execution_count": null,
   "metadata": {},
   "outputs": [],
   "source": [
    "from sklearn.metrics import precision_score, recall_score, f1_score\n",
    "\n",
    "# Predictions on the test data\n",
    "y_pred = model.predict(X_test_scaled)\n",
    "\n",
    "# Precision, Recall, F1-Score\n",
    "print(\"Precision:\", precision_score(y_test, y_pred))\n",
    "print(\"Recall:\", recall_score(y_test, y_pred))\n",
    "print(\"F1-Score:\", f1_score(y_test, y_pred))\n"
   ]
  },
  {
   "cell_type": "code",
   "execution_count": null,
   "metadata": {},
   "outputs": [],
   "source": [
    "from sklearn.metrics import roc_auc_score\n",
    "\n",
    "# Probability predictions for ROC-AUC\n",
    "y_prob = model.predict_proba(X_test_scaled)[:, 1]\n",
    "\n",
    "# ROC-AUC Score\n",
    "print(\"ROC-AUC Score:\", roc_auc_score(y_test, y_prob))\n"
   ]
  },
  {
   "cell_type": "code",
   "execution_count": null,
   "metadata": {},
   "outputs": [],
   "source": [
    "# Train a Random Forest Classifier model on the scaled training data to predict repayment status\n",
    "from sklearn.ensemble import RandomForestClassifier\n",
    "model1 = RandomForestClassifier()\n",
    "model1.fit(X_train_scaled, y_train)"
   ]
  },
  {
   "cell_type": "code",
   "execution_count": null,
   "metadata": {},
   "outputs": [],
   "source": [
    "from sklearn.metrics import precision_score, recall_score, f1_score\n",
    "\n",
    "# Predictions on the test data\n",
    "y1_pred = model1.predict(X_test_scaled)\n",
    "\n",
    "# Precision, Recall, F1-Score\n",
    "print(\"Precision:\", precision_score(y_test, y1_pred))\n",
    "print(\"Recall:\", recall_score(y_test, y1_pred))\n",
    "print(\"F1-Score:\", f1_score(y_test, y1_pred))"
   ]
  },
  {
   "cell_type": "code",
   "execution_count": null,
   "metadata": {},
   "outputs": [],
   "source": [
    "# Probability predictions for ROC-AUC\n",
    "y1_prob = model1.predict_proba(X_test_scaled)[:, 1]\n",
    "\n",
    "# ROC-AUC Score\n",
    "print(\"ROC-AUC Score:\", roc_auc_score(y_test, y1_prob))"
   ]
  },
  {
   "cell_type": "code",
   "execution_count": null,
   "metadata": {},
   "outputs": [],
   "source": [
    "# Evaluate and display the training and test accuracy of the Random Forest model\n",
    "print(\"Training Accuracy:\", model1.score(X_train_scaled, y_train))\n",
    "print(\"Test Accuracy:\", model1.score(X_test_scaled, y_test))"
   ]
  },
  {
   "cell_type": "code",
   "execution_count": 29,
   "metadata": {},
   "outputs": [],
   "source": [
    "# Import the joblib library for saving and loading models\n",
    "import joblib"
   ]
  },
  {
   "cell_type": "code",
   "execution_count": null,
   "metadata": {},
   "outputs": [],
   "source": [
    "# Save the trained Random Forest model to a .pkl file at the specified location\n",
    "joblib.dump(model1, r\"D:\\1 DS PROJECTS\\DS final project 1.pkl\")"
   ]
  },
  {
   "cell_type": "markdown",
   "metadata": {},
   "source": [
    "Banking Predictive Analytics & Recommendation System Built a recommendation system using Python, SQL, and ML (Logistic Regression, Random Forest, Gradient Boosting) to analyze customer data (demographics, credit scores, income, loans, repayment history) for better financial insights."
   ]
  },
  {
   "cell_type": "markdown",
   "metadata": {},
   "source": []
  }
 ],
 "metadata": {
  "kernelspec": {
   "display_name": "Python 3",
   "language": "python",
   "name": "python3"
  },
  "language_info": {
   "codemirror_mode": {
    "name": "ipython",
    "version": 3
   },
   "file_extension": ".py",
   "mimetype": "text/x-python",
   "name": "python",
   "nbconvert_exporter": "python",
   "pygments_lexer": "ipython3",
   "version": "3.13.0"
  }
 },
 "nbformat": 4,
 "nbformat_minor": 2
}
