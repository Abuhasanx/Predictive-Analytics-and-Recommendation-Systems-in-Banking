{
 "cells": [
  {
   "cell_type": "code",
   "execution_count": null,
   "metadata": {},
   "outputs": [],
   "source": [
    "# Import necessary libraries for data handling and random data generation numpy and pandas for data manipulation, random for randomness,\n",
    "#  Faker for generating fake data Initialize Faker for generating fake transaction dates\n",
    "# Define the number of customers and maximum transactions per customer\n",
    "# Generate unique customer IDs in the format \"CUST000001\" to \"CUST002000\"\n",
    "# Create a transaction dataset with random transactions for each customer\n",
    "#  Assigns a unique transaction ID\n",
    "# Generates a random transaction amount between 10 and 1000\n",
    "#  Randomly selects a transaction type (deposit or withdrawal)\n",
    "#  Assigns a random date within the last year\n",
    "# Convert the transaction list into a pandas DataFrame\n",
    "# Display the first few rows of the transaction dataset\n",
    "\n",
    "import numpy as np\n",
    "import pandas as pd\n",
    "import random\n",
    "from faker import Faker\n",
    "\n",
    "fake = Faker()\n",
    "\n",
    "num_customers = 2000\n",
    "max_transactions_per_customer = 20 \n",
    "\n",
    "customers = [f\"CUST{str(i).zfill(6)}\" for i in range(1, num_customers + 1)]\n",
    "\n",
    "transaction_data = []\n",
    "for customer_id in customers:\n",
    "    num_transactions = random.randint(1, max_transactions_per_customer)\n",
    "    for _ in range(num_transactions):\n",
    "        transaction_data.append({\n",
    "            \"customer_id\": customer_id,\n",
    "            \"transaction_id\": f\"TRANS{str(len(transaction_data) + 1).zfill(6)}\",\n",
    "            \"transaction_amount\": np.random.uniform(10, 1000),\n",
    "            \"transaction_type\": random.choice([\"deposit\", \"withdrawal\"]),\n",
    "            \"transaction_date\": fake.date_between(start_date='-1y', end_date='today'),\n",
    "        })\n",
    "\n",
    "transaction_data = pd.DataFrame(transaction_data)\n",
    "\n",
    "transaction_data.head()"
   ]
  },
  {
   "cell_type": "code",
   "execution_count": null,
   "metadata": {},
   "outputs": [],
   "source": [
    "# Check the shape of the transaction dataset (number of rows and columns)\n",
    "transaction_data.shape"
   ]
  },
  {
   "cell_type": "code",
   "execution_count": null,
   "metadata": {},
   "outputs": [],
   "source": [
    "# Display the index of the transaction dataset\n",
    "transaction_data.index"
   ]
  },
  {
   "cell_type": "code",
   "execution_count": null,
   "metadata": {},
   "outputs": [],
   "source": [
    "# List all column names in the transaction dataset\n",
    "transaction_data.columns"
   ]
  },
  {
   "cell_type": "code",
   "execution_count": null,
   "metadata": {},
   "outputs": [],
   "source": [
    "# Check the data types of each column in the transaction dataset\n",
    "transaction_data.dtypes"
   ]
  },
  {
   "cell_type": "code",
   "execution_count": null,
   "metadata": {},
   "outputs": [],
   "source": [
    "# Get the unique transaction types present in the dataset\n",
    "transaction_data['transaction_type'].unique()"
   ]
  },
  {
   "cell_type": "code",
   "execution_count": null,
   "metadata": {},
   "outputs": [],
   "source": [
    "# Get the number of unique values in each column of the dataset\n",
    "transaction_data.nunique"
   ]
  },
  {
   "cell_type": "code",
   "execution_count": null,
   "metadata": {},
   "outputs": [],
   "source": [
    "# Count the number of missing (null) values in each column of the dataset\n",
    "transaction_data.isnull().sum()"
   ]
  },
  {
   "cell_type": "code",
   "execution_count": null,
   "metadata": {},
   "outputs": [],
   "source": [
    "# Count the number of non-null values in each column of the dataset\n",
    "transaction_data.count()"
   ]
  },
  {
   "cell_type": "code",
   "execution_count": null,
   "metadata": {},
   "outputs": [],
   "source": [
    "# Get the count of each transaction type (deposit/withdrawal) in the dataset\n",
    "transaction_data['transaction_type'].value_counts()"
   ]
  },
  {
   "cell_type": "code",
   "execution_count": null,
   "metadata": {},
   "outputs": [],
   "source": [
    "# Get the count of each unique transaction date in the dataset\n",
    "transaction_data['transaction_date'].value_counts()"
   ]
  },
  {
   "cell_type": "code",
   "execution_count": null,
   "metadata": {},
   "outputs": [],
   "source": [
    "# Display summary information about the dataset, including the number of non-null entries and data types of each column\n",
    "transaction_data.info()"
   ]
  },
  {
   "cell_type": "code",
   "execution_count": null,
   "metadata": {},
   "outputs": [],
   "source": [
    "# Display the first few rows of the transaction dataset to get an overview of the data\n",
    "transaction_data.head()"
   ]
  },
  {
   "cell_type": "code",
   "execution_count": 14,
   "metadata": {},
   "outputs": [],
   "source": [
    "# Import matplotlib for data visualization and seaborn for enhanced plotting\n",
    "import matplotlib.pyplot as plt\n",
    "import seaborn as sns"
   ]
  },
  {
   "cell_type": "code",
   "execution_count": 15,
   "metadata": {},
   "outputs": [
    {
     "data": {
      "text/plain": [
       "<Axes: >"
      ]
     },
     "execution_count": 15,
     "metadata": {},
     "output_type": "execute_result"
    },
    {
     "data": {
      "image/png": "[encoded data removed]",
      "text/plain": [
       "<Figure size 640x480 with 1 Axes>"
      ]
     },
     "metadata": {},
     "output_type": "display_data"
    }
   ],
   "source": [
    "# Create a boxplot to visualize the distribution and outliers in the transaction dataset\n",
    "sns.boxplot(data=transaction_data)"
   ]
  },
  {
   "cell_type": "code",
   "execution_count": null,
   "metadata": {},
   "outputs": [],
   "source": [
    "# Display the first 10 rows of the transaction dataset for a closer look\n",
    "transaction_data.head(10)"
   ]
  },
  {
   "cell_type": "code",
   "execution_count": 17,
   "metadata": {},
   "outputs": [],
   "source": [
    "#SEPARATE THE COLUMNS USING THE LOOPS\n",
    "# Loop through each element (transaction type) and create a new column with the corresponding transaction amount\n",
    "# - For each transaction type, create a new column with the transaction amount if the condition is met, otherwise set it to None\n",
    "\n",
    "elements = ['withdrawal','deposit']\n",
    "\n",
    "for element in elements:\n",
    "    Tranformed_Columns = transaction_data['transaction_type'] == element\n",
    "    transaction_data[f'{element}_Value'] = transaction_data['transaction_amount'].where(Tranformed_Columns,None)"
   ]
  },
  {
   "cell_type": "code",
   "execution_count": null,
   "metadata": {},
   "outputs": [],
   "source": [
    "# Display the first few rows of the updated transaction dataset with new columns for each transaction type's amount\n",
    "transaction_data.head()"
   ]
  },
  {
   "cell_type": "code",
   "execution_count": 19,
   "metadata": {},
   "outputs": [],
   "source": [
    "# Replace all missing (NaN) values in the dataset with 0\n",
    "transaction_data.fillna(0,inplace=True)"
   ]
  },
  {
   "cell_type": "code",
   "execution_count": null,
   "metadata": {},
   "outputs": [],
   "source": [
    "# Display the first few rows of the transaction dataset again to verify the changes\n",
    "transaction_data.head()"
   ]
  },
  {
   "cell_type": "code",
   "execution_count": null,
   "metadata": {},
   "outputs": [],
   "source": [
    "\n",
    "# Group the transaction data by customer_id and aggregate:\n",
    "# - Total number of transactions per customer\n",
    "# - Total transaction amount per customer\n",
    "# - Average transaction amount per customer\n",
    "# - Number of deposits and withdrawals for each customer\n",
    "# - Total amount of withdrawals and deposits for each customer\n",
    "# Reset the index to create a clean customer-level dataset\n",
    "\n",
    "customer_data = transaction_data.groupby(\"customer_id\").agg(\n",
    "    total_transactions=(\"transaction_id\", \"count\"),\n",
    "    total_amount=(\"transaction_amount\", \"sum\"),\n",
    "    avg_transaction_amount=(\"transaction_amount\", \"mean\"),\n",
    "    \n",
    "    num_deposits=(\"transaction_type\", lambda x: (x == \"deposit\").sum()),\n",
    "    num_withdrawals=(\"transaction_type\", lambda x: (x == \"withdrawal\").sum()),\n",
    "    withdrawals_amount=(\"withdrawal_Value\",'sum'),\n",
    "    deposits_amount=(\"deposit_Value\",'sum')\n",
    ").reset_index()\n",
    "customer_data.head()"
   ]
  },
  {
   "cell_type": "code",
   "execution_count": 22,
   "metadata": {},
   "outputs": [
    {
     "data": {
      "text/plain": [
       "<Axes: xlabel='customer_id', ylabel='total_amount'>"
      ]
     },
     "execution_count": 22,
     "metadata": {},
     "output_type": "execute_result"
    },
    {
     "data": {
      "image/png": "[encoded data removed]",
      "text/plain": [
       "<Figure size 1300x500 with 1 Axes>"
      ]
     },
     "metadata": {},
     "output_type": "display_data"
    }
   ],
   "source": [
    "# Sort the customer data by total transaction amount in descending order and get the top 10 customers\n",
    "# - Plot a bar chart showing the total transaction amount for the top 10 customers using seaborn\n",
    "top_10 = customer_data[[\"customer_id\",\"total_transactions\",\"total_amount\"]].sort_values(by='total_amount', ascending=False).head(10)\n",
    "plt.figure(figsize=(13,5))\n",
    "sns.barplot(x=\"customer_id\",y=\"total_amount\",data=top_10)\n"
   ]
  },
  {
   "cell_type": "code",
   "execution_count": 23,
   "metadata": {},
   "outputs": [
    {
     "data": {
      "text/plain": [
       "<Axes: xlabel='customer_id', ylabel='withdrawals_amount'>"
      ]
     },
     "execution_count": 23,
     "metadata": {},
     "output_type": "execute_result"
    },
    {
     "data": {
      "image/png": "[encoded data removed]",
      "text/plain": [
       "<Figure size 1300x500 with 1 Axes>"
      ]
     },
     "metadata": {},
     "output_type": "display_data"
    }
   ],
   "source": [
    "# Sort the customer data by withdrawal amount in descending order and get the top 10 customers\n",
    "# - Plot a bar chart showing the withdrawal amount for the top 10 customers using seaborn\n",
    "top_10 = customer_data[[\"customer_id\",\"withdrawals_amount\",\"deposits_amount\"]].sort_values(by='withdrawals_amount', ascending=False).head(10)\n",
    "plt.figure(figsize=(13,5))\n",
    "sns.barplot(x=\"customer_id\",y=\"withdrawals_amount\",data=top_10)"
   ]
  },
  {
   "cell_type": "code",
   "execution_count": 24,
   "metadata": {},
   "outputs": [
    {
     "data": {
      "text/plain": [
       "<Axes: xlabel='customer_id', ylabel='deposits_amount'>"
      ]
     },
     "execution_count": 24,
     "metadata": {},
     "output_type": "execute_result"
    },
    {
     "data": {
      "image/png": "[encoded data removed]",
      "text/plain": [
       "<Figure size 1300x500 with 1 Axes>"
      ]
     },
     "metadata": {},
     "output_type": "display_data"
    }
   ],
   "source": [
    "# Sort the customer data by deposit amount in descending order and get the top 10 customers\n",
    "# - Plot a bar chart showing the deposit amount for the top 10 customers using seaborn\n",
    "top_10 = customer_data[[\"customer_id\",\"withdrawals_amount\",\"deposits_amount\"]].sort_values(by='deposits_amount', ascending=False).head(10)\n",
    "plt.figure(figsize=(13,5))\n",
    "sns.barplot(x=\"customer_id\",y=\"deposits_amount\",data=top_10)"
   ]
  },
  {
   "cell_type": "code",
   "execution_count": null,
   "metadata": {},
   "outputs": [],
   "source": [
    "#CHECKING THE CORRELATION FOR NUMERIC COLUMNS USING HEATMAP\n",
    "correlation_matrix = customer_data[[\"total_transactions\", \"total_amount\", \n",
    "                                    \"num_deposits\", \"num_withdrawals\", \"withdrawals_amount\", \"deposits_amount\"]].corr()\n",
    "\n",
    "plt.figure(figsize=(10, 8))\n",
    "sns.heatmap(correlation_matrix, annot=True, cmap='coolwarm', fmt='.2f')\n",
    "plt.title(\"Correlation Matrix\")\n",
    "plt.show()"
   ]
  },
  {
   "cell_type": "code",
   "execution_count": null,
   "metadata": {},
   "outputs": [],
   "source": [
    "# SELECT TOP 10 CUSTOMERS BASED ON TOTAL AMOUNT IN DESCENDING ORDER\n",
    "top_10 = customer_data[[\"customer_id\",\"total_transactions\",\"total_amount\"]].sort_values(by='total_amount', ascending=False).head(10)\n",
    "plt.figure(figsize=(13, 5))\n",
    "sns.barplot(y=\"customer_id\", x=\"total_amount\", data=top_10, orient='h')\n",
    "plt.xlabel(\"Total Amount\")\n",
    "plt.ylabel(\"Customer ID\")\n",
    "plt.title(\"Top 10 Customers by Total Amount\")\n",
    "plt.show()"
   ]
  },
  {
   "cell_type": "code",
   "execution_count": null,
   "metadata": {},
   "outputs": [],
   "source": [
    "# Import StandardScaler from sklearn to scale the features of the customer data\n",
    "# Select the features to be scaled\n",
    "# Scale the selected features (normalize them to have mean 0 and variance 1)\n",
    "# Create a new DataFrame with the scaled values for easy inspection\n",
    "from sklearn.preprocessing import StandardScaler\n",
    "\n",
    "features = [\"total_transactions\", \"total_amount\", \"avg_transaction_amount\", \"num_deposits\", \"num_withdrawals\",\"withdrawals_amount\",\"deposits_amount\"]\n",
    "\n",
    "scaler = StandardScaler()\n",
    "scaled_features = scaler.fit_transform(customer_data[features])\n",
    "\n",
    "scaled_customer_data = pd.DataFrame(scaled_features, columns=features)\n",
    "\n",
    "scaled_customer_data.head()"
   ]
  },
  {
   "cell_type": "code",
   "execution_count": null,
   "metadata": {},
   "outputs": [],
   "source": [
    "# Apply KMeans clustering with 2 clusters on the scaled customer data\n",
    "# Assign each customer to a cluster and add the cluster labels to the customer_data DataFrame\n",
    "from sklearn.cluster import KMeans\n",
    "\n",
    "kmeans = KMeans(n_clusters=2, random_state=42)\n",
    "customer_data[\"cluster\"] = kmeans.fit_predict(scaled_features)\n",
    "\n",
    "customer_data.head(25)"
   ]
  },
  {
   "cell_type": "code",
   "execution_count": null,
   "metadata": {},
   "outputs": [],
   "source": [
    "# Calculate the silhouette score and Davies-Bouldin index to evaluate the clustering performance\n",
    "# Silhouette score indicates how similar the points are within their own cluster\n",
    "# Davies-Bouldin index measures the average similarity ratio of each cluster to the cluster that is most similar to it\n",
    "\n",
    "# Perform PCA (Principal Component Analysis) to reduce data dimensions to 2 for visualization\n",
    "# Plot the 2D scatter plot of the clustered data points and highlight the cluster centers in red\n",
    "\n",
    "from sklearn.metrics import silhouette_score, davies_bouldin_score\n",
    "from sklearn.decomposition import PCA\n",
    "import matplotlib.pyplot as plt\n",
    "\n",
    "# Metrics\n",
    "silhouette = silhouette_score(scaled_features, customer_data[\"cluster\"])\n",
    "db_index = davies_bouldin_score(scaled_features, customer_data[\"cluster\"])\n",
    "print(f\"Silhouette Score: {silhouette}\")\n",
    "print(f\"Davies-Bouldin Index: {db_index}\")\n",
    "\n",
    "# PCA for visualization\n",
    "pca = PCA(n_components=2)\n",
    "data_pca = pca.fit_transform(scaled_features)\n",
    "\n",
    "plt.scatter(data_pca[:, 0], data_pca[:, 1], c=customer_data[\"cluster\"], cmap='viridis', s=50)\n",
    "plt.scatter(kmeans.cluster_centers_[:, 0], kmeans.cluster_centers_[:, 1], c='red', marker='X', s=200)\n",
    "plt.title('Cluster Visualization (PCA)')\n",
    "plt.xlabel('PCA Component 1')\n",
    "plt.ylabel('PCA Component 2')\n",
    "plt.show()"
   ]
  },
  {
   "cell_type": "code",
   "execution_count": 28,
   "metadata": {},
   "outputs": [],
   "source": [
    "# Import the joblib library to save and load machine learning models and other objects\n",
    "import joblib"
   ]
  },
  {
   "cell_type": "code",
   "execution_count": 30,
   "metadata": {},
   "outputs": [
    {
     "data": {
      "text/plain": [
       "['D:\\\\1 DS PROJECTS\\\\DS final project 1\\\\save file.pkl']"
      ]
     },
     "execution_count": 30,
     "metadata": {},
     "output_type": "execute_result"
    }
   ],
   "source": [
    "# Save the customer_data DataFrame to a file using joblib for later use or sharing\n",
    "# The file is saved in the specified path with the .pkl extension\n",
    "joblib.dump(customer_data, r\"D:\\1 DS PROJECTS\\DS final project 1\\save file.pkl\")"
   ]
  },
  {
   "cell_type": "code",
   "execution_count": null,
   "metadata": {},
   "outputs": [],
   "source": [
    "# Save the scaled_customer_data DataFrame (which contains the scaled features) to a .pkl file using joblib\n",
    "# The file is saved in the specified path for future use\n",
    "joblib.dump(scaled_customer_data,r\"D:\\1 DS PROJECTS\\DS final project 1\\scaler.pkl\")"
   ]
  },
  {
   "cell_type": "code",
   "execution_count": 148,
   "metadata": {},
   "outputs": [],
   "source": [
    "from sklearn.cluster import DBSCAN\n",
    "# DBSCAN clustering\n",
    "dbscan = DBSCAN(eps=0.5, min_samples=5)  # Adjust 'eps' and 'min_samples' as needed\n",
    "customer_data[\"cluster\"] = dbscan.fit_predict(scaled_features)\n"
   ]
  },
  {
   "cell_type": "code",
   "execution_count": null,
   "metadata": {},
   "outputs": [],
   "source": [
    "# Check if there are more than one cluster in the data\n",
    "# If true, calculate the silhouette score and Davies-Bouldin index to evaluate clustering quality\n",
    "# If only one cluster is found, print a message stating the silhouette score is not defined\n",
    "\n",
    "if len(set(customer_data[\"cluster\"])) > 1:  # Ensure there is more than one cluster\n",
    "    silhouette = silhouette_score(scaled_features, customer_data[\"cluster\"])\n",
    "    db_index = davies_bouldin_score(scaled_features, customer_data[\"cluster\"])\n",
    "    print(f\"Silhouette Score: {silhouette}\")\n",
    "    print(f\"Davies-Bouldin Index: {db_index}\")\n",
    "else:\n",
    "    print(\"DBSCAN found less than two clusters; Silhouette Score is not defined.\")"
   ]
  },
  {
   "cell_type": "code",
   "execution_count": null,
   "metadata": {},
   "outputs": [],
   "source": [
    "# PCA for visualization\n",
    "pca = PCA(n_components=2)\n",
    "data_pca = pca.fit_transform(scaled_features)\n",
    "\n",
    "plt.scatter(data_pca[:, 0], data_pca[:, 1], c=customer_data[\"cluster\"], cmap='viridis', s=50)\n",
    "plt.title('Cluster Visualization (DBSCAN, PCA)')\n",
    "plt.xlabel('PCA Component 1')\n",
    "plt.ylabel('PCA Component 2')\n",
    "plt.show()"
   ]
  },
  {
   "cell_type": "code",
   "execution_count": null,
   "metadata": {},
   "outputs": [],
   "source": [
    "from sklearn.cluster import AgglomerativeClustering\n",
    "import scipy.cluster.hierarchy as sch\n",
    "\n",
    "# Perform hierarchical clustering\n",
    "hc = AgglomerativeClustering(n_clusters=3)\n",
    "scaled_customer_data['cluster'] = hc.fit_predict(scaled_customer_data)\n",
    "\n",
    "# Plot dendrogram\n",
    "sch.dendrogram(sch.linkage(scaled_customer_data[features], method='ward'))\n"
   ]
  },
  {
   "cell_type": "code",
   "execution_count": null,
   "metadata": {},
   "outputs": [],
   "source": [
    "from sklearn.metrics import silhouette_score, davies_bouldin_score\n",
    "from sklearn.decomposition import PCA\n",
    "import matplotlib.pyplot as plt\n",
    "\n",
    "# Calculate silhouette score and Davies-Bouldin index for hierarchical clustering\n",
    "silhouette = silhouette_score(scaled_features, scaled_customer_data[\"cluster\"])\n",
    "db_index = davies_bouldin_score(scaled_features, scaled_customer_data[\"cluster\"])\n",
    "\n",
    "print(f\"Silhouette Score: {silhouette}\")\n",
    "print(f\"Davies-Bouldin Index: {db_index}\")\n",
    "\n",
    "# PCA for visualization\n",
    "pca = PCA(n_components=2)\n",
    "data_pca = pca.fit_transform(scaled_features)\n",
    "\n",
    "plt.scatter(data_pca[:, 0], data_pca[:, 1], c=scaled_customer_data[\"cluster\"], cmap='viridis', s=50)\n",
    "plt.title('Cluster Visualization (PCA)')\n",
    "plt.xlabel('PCA Component 1')\n",
    "plt.ylabel('PCA Component 2')\n",
    "plt.show()\n"
   ]
  }
 ],
 "metadata": {
  "kernelspec": {
   "display_name": "Python 3",
   "language": "python",
   "name": "python3"
  },
  "language_info": {
   "codemirror_mode": {
    "name": "ipython",
    "version": 3
   },
   "file_extension": ".py",
   "mimetype": "text/x-python",
   "name": "python",
   "nbconvert_exporter": "python",
   "pygments_lexer": "ipython3",
   "version": "3.13.0"
  }
 },
 "nbformat": 4,
 "nbformat_minor": 2
}
